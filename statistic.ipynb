{
 "metadata": {
  "name": "smoking"
 },
 "nbformat": 3,
 "nbformat_minor": 0,
 "worksheets": [
  {
   "cells": [
    {
     "cell_type": "raw",
     "metadata": {},
     "source": [
      "\u0421\u043e\u0431\u0435\u0440\u0435\u043c \u0441\u0442\u0430\u0442\u0438\u0441\u0442\u0438\u043a\u0443 \u043f\u043e \u043e\u0442\u043d\u043e\u0448\u0435\u043d\u0438\u044e \u043a \u043a\u0443\u0440\u0435\u043d\u0438\u044e \u043c\u043e\u043b\u043e\u0434\u044b\u0445 \u043b\u044e\u0434\u0435\u0439 \u0438 \u0434\u0435\u0432\u0443\u0448\u0435\u043a. \u0414\u043b\u044f \u044d\u0442\u043e\u0433\u043e \u0432\u044b\u0431\u0435\u0440\u0435\u043c \u043f\u043e\u043b\u044c\u0437\u043e\u0432\u0430\u0442\u0435\u043b\u0435\u0439 \u043a\u043e\u043d\u043a\u0440\u0435\u0442\u043d\u043e\u0433\u043e \u043f\u043e\u043b\u0430 \u0441 \u0437\u0430\u043f\u043e\u043b\u043d\u0435\u043d\u043d\u044b\u043c \u043f\u043e\u043b\u0435\u043c \"users_get.personal.smoking\". \u0417\u0430\u0442\u0435\u043c \u0441\u0433\u0440\u0443\u043f\u043f\u0438\u0440\u0443\u0435\u043c \u0434\u0430\u043d\u043d\u044b\u0435 \u043f\u043e \u0437\u043d\u0430\u0447\u0435\u043d\u0438\u044e \u043f\u043e\u043b\u044f. \u0418 \u043f\u043e\u0441\u0447\u0438\u0442\u0430\u0435\u043c \u043e\u0442\u043d\u043e\u0448\u0435\u043d\u0438\u0435 \u043a \u043a\u0443\u0440\u0435\u043d\u0438\u044e, \u0440\u0430\u0437\u0434\u0435\u043b\u0438\u0432 \u043a\u043e\u043b\u0438\u0447\u0435\u0441\u0442\u0432\u043e \u043f\u043e\u043b\u0437\u043e\u0432\u0430\u0442\u0435\u043b\u0435\u0439 \u0441 \u0434\u0430\u043d\u043d\u043c \u043e\u0442\u043d\u043e\u0448\u0435\u043d\u0438\u0435\u043c \u043d\u0430 \u043e\u0431\u0449\u0435\u0435 \u043a\u043e\u043b\u0438\u0447\u0435\u0441\u0442\u0432\u043e \u0434\u0430\u043d\u043d\u044b\u0445."
     ]
    },
    {
     "cell_type": "code",
     "collapsed": false,
     "input": [
      "from pymongo import Connection\n",
      "connection = Connection()\n",
      "db = connection.urfu\n",
      "data={'women':{'id':1,'info':{'smoking':{'count':0,'data':[]},'alcohol':{'count':0,'data':[]},'alcohol':{'count':0,'data':[]}}},'man':{'id':2,'info':{'smoking':{'count':0,'data':[]},'alcohol':{'count':0,'data':[]}}}}\n",
      "for sex in data:\n",
      "    for info in data[sex]['info']:\n",
      "        for var in xrange(1,6):\n",
      "            personal='users_get.personal.'+info\n",
      "            data[sex]['info'][info]['data'].append(db.users.find({'users_get.sex':data[sex]['id'],personal:var}).count())\n",
      "        data[sex]['info'][info]['count']= sum(data[sex]['info'][info]['data'])\n",
      "\n",
      "relation={'count':0,'data':[]}\n",
      "for sex in data:\n",
      "    for var in xrange(1,8):\n",
      "        relation['data'].append(db.users.find({'users_get.sex':data[sex]['id'],'users_get.relation':str(var)}).count())\n",
      "    relation['count']= sum(relation['data'])\n",
      "    data[sex]['info']['relation']=relation\n",
      "    relation={'count':0,'data':[]}\n",
      "life_main={'count':0,'data':[]}\n",
      "for sex in data:\n",
      "    for var in xrange(1,9):\n",
      "        life_main['data'].append(db.users.find({'users_get.sex':data[sex]['id'],'users_get.personal.life_main':var}).count())\n",
      "    life_main['count']= sum(life_main['data'])\n",
      "    data[sex]['info']['life_main']=life_main\n",
      "    life_main={'count':0,'data':[]}\n",
      "print data"
     ],
     "language": "python",
     "metadata": {},
     "outputs": [
      {
       "output_type": "stream",
       "stream": "stdout",
       "text": [
        "{'man': {'info': {'smoking': {'count': 906, 'data': [319, 283, 84, 159, 61]}, 'life_main': {'count': 796, 'data': [308, 68, 74, 28, 81, 209, 11, 17]}, 'relation': {'count': 1243, 'data': [361, 155, 45, 154, 19, 289, 220]}, 'alcohol': {'count': 883, 'data': [198, 191, 187, 240, 67]}}, 'id': 2}, 'women': {'info': {'smoking': {'count': 639, 'data': [208, 207, 74, 136, 14]}, 'life_main': {'count': 635, 'data': [322, 19, 23, 10, 42, 192, 23, 4]}, 'relation': {'count': 921, 'data': [260, 136, 46, 176, 13, 87, 203]}, 'alcohol': {'count': 596, 'data': [107, 152, 140, 181, 16]}}, 'id': 1}}\n"
       ]
      }
     ],
     "prompt_number": 22
    },
    {
     "cell_type": "code",
     "collapsed": false,
     "input": [
      "from pylab import *"
     ],
     "language": "python",
     "metadata": {},
     "outputs": [],
     "prompt_number": 13
    },
    {
     "cell_type": "code",
     "collapsed": false,
     "input": [
      "x=[1,2,3,4,5]\n",
      "y1=[int(i*100/data['women']['info']['smoking']['count']) for i in data['women']['info']['smoking']['data']]\n",
      "y2=[int(i*100/data['man']['info']['smoking']['count']) for i in data['man']['info']['smoking']['data']]\n"
     ],
     "language": "python",
     "metadata": {},
     "outputs": [],
     "prompt_number": 3
    },
    {
     "cell_type": "code",
     "collapsed": false,
     "input": [
      "fig, ax = plt.subplots()\n",
      "\n",
      "ax.plot(x, y1, label=\"women\")\n",
      "ax.plot(x, y2, label=\"man\")\n",
      "ax.set_xlabel(u'\u043e\u0442\u043d\u043e\u0448\u0435\u043d\u0438\u0435 \u043a \u043a\u0443\u0440\u0435\u043d\u0438\u044e')\n",
      "ax.set_ylabel(u'\u043a\u043e\u043b\u0438\u0447\u0435\u0441\u0442\u0432\u043e \u0447\u0435\u043b\u043e\u0432\u0435\u043a')\n",
      "ax.set_xticklabels([u'\u0440\u0435\u0437\u043a\u043e \u043d\u0435\u0433\u0430\u0442\u0438\u0432\u043d\u043e\u0435','', u'\u043d\u0435\u0433\u0430\u0442\u0438\u0432\u043d\u043e\u0435','', u'\u043d\u0435\u0439\u0442\u0440\u0430\u043b\u044c\u043d\u043e\u0435','', u'\u043a\u043e\u043c\u043f\u0440\u043e\u043c\u0438\u0441\u0441\u043d\u043e\u0435','', u'\u043f\u043e\u043b\u043e\u0436\u0438\u0442\u0435\u043b\u044c\u043d\u043e\u0435'])\n",
      "ax.set_title('smoking')\n",
      "ax.legend(loc=2);\n",
      "show()"
     ],
     "language": "python",
     "metadata": {},
     "outputs": [],
     "prompt_number": 4
    },
    {
     "cell_type": "code",
     "collapsed": false,
     "input": [
      "y1=[int(i*100/data['women']['info']['alcohol']['count']) for i in data['women']['info']['alcohol']['data']]\n",
      "y2=[int(i*100/data['man']['info']['alcohol']['count']) for i in data['man']['info']['alcohol']['data']]"
     ],
     "language": "python",
     "metadata": {},
     "outputs": [],
     "prompt_number": 14
    },
    {
     "cell_type": "code",
     "collapsed": false,
     "input": [
      "fig, ax = plt.subplots()\n",
      "\n",
      "ax.plot(x, y1, label=\"women\")\n",
      "ax.plot(x, y2, label=\"man\")\n",
      "ax.set_xlabel(u'\u043e\u0442\u043d\u043e\u0448\u0435\u043d\u0438\u0435 \u043a \u0430\u043b\u043a\u043e\u0433\u043e\u043b\u044e')\n",
      "ax.set_ylabel(u'\u043a\u043e\u043b\u0438\u0447\u0435\u0441\u0442\u0432\u043e \u0447\u0435\u043b\u043e\u0432\u0435\u043a')\n",
      "ax.set_xticklabels([u'\u0440\u0435\u0437\u043a\u043e \u043d\u0435\u0433\u0430\u0442\u0438\u0432\u043d\u043e\u0435','', u'\u043d\u0435\u0433\u0430\u0442\u0438\u0432\u043d\u043e\u0435','', u'\u043d\u0435\u0439\u0442\u0440\u0430\u043b\u044c\u043d\u043e\u0435','', u'\u043a\u043e\u043c\u043f\u0440\u043e\u043c\u0438\u0441\u0441\u043d\u043e\u0435','', u'\u043f\u043e\u043b\u043e\u0436\u0438\u0442\u0435\u043b\u044c\u043d\u043e\u0435'])\n",
      "ax.set_title('alcohol')\n",
      "ax.legend(loc=2);\n",
      "show()\n"
     ],
     "language": "python",
     "metadata": {},
     "outputs": [],
     "prompt_number": 15
    },
    {
     "cell_type": "code",
     "collapsed": false,
     "input": [
      "x=[1,2,3,4,5,6,7]\n",
      "y1=[int(i*100/data['women']['info']['relation']['count']) for i in data['women']['info']['relation']['data']]\n",
      "y2=[int(i*100/data['man']['info']['relation']['count']) for i in data['man']['info']['relation']['data']]"
     ],
     "language": "python",
     "metadata": {},
     "outputs": [],
     "prompt_number": 23
    },
    {
     "cell_type": "code",
     "collapsed": false,
     "input": [
      "fig, ax = plt.subplots()\n",
      "\n",
      "ax.plot(x, y1, label=\"women\")\n",
      "ax.plot(x, y2, label=\"man\")\n",
      "ax.set_xlabel(u'\u0441\u0435\u043c\u0435\u0439\u043d\u043e\u0435 \u043f\u043e\u043b\u043e\u0436\u0435\u043d\u0438\u0435')\n",
      "ax.set_ylabel(u'\u043a\u043e\u043b\u0438\u0447\u0435\u0441\u0442\u0432\u043e \u0447\u0435\u043b\u043e\u0432\u0435\u043a')\n",
      "ax.set_xticklabels([u' \u043d\u0435 \u0436\u0435\u043d\u0430\u0442/\u043d\u0435 \u0437\u0430\u043c\u0443\u0436\u0435\u043c',u'\u0435\u0441\u0442\u044c \u0434\u0440\u0443\u0433/\u043f\u043e\u0434\u0440\u0443\u0433\u0430', u'\u043f\u043e\u043c\u043e\u043b\u0432\u043b\u0435\u043d(\u0430)', u'\u0436\u0435\u043d\u0430\u0442/\u0437\u0430\u043c\u0443\u0436\u0435\u043c', u'\u0432\u0441\u0451 \u0441\u043b\u043e\u0436\u043d\u043e', u'\u0432 \u0430\u043a\u0442\u0438\u0432\u043d\u043e\u043c \u043f\u043e\u0438\u0441\u043a\u0435', u'\u0432\u043b\u044e\u0431\u043b\u0451\u043d(\u0430)'])\n",
      "ax.set_title('relation')\n",
      "ax.legend(loc=2);\n",
      "show()"
     ],
     "language": "python",
     "metadata": {},
     "outputs": [],
     "prompt_number": 29
    },
    {
     "cell_type": "code",
     "collapsed": false,
     "input": [
      "x=[1,2,3,4,5,6,7,8]\n",
      "y1=[int(i*100/data['women']['info']['life_main']['count']) for i in data['women']['info']['life_main']['data']]\n",
      "y2=[int(i*100/data['man']['info']['life_main']['count']) for i in data['man']['info']['life_main']['data']]"
     ],
     "language": "python",
     "metadata": {},
     "outputs": [],
     "prompt_number": 30
    },
    {
     "cell_type": "code",
     "collapsed": false,
     "input": [
      "fig, ax = plt.subplots()\n",
      "\n",
      "ax.plot(x, y1, label=\"women\")\n",
      "ax.plot(x, y2, label=\"man\")\n",
      "ax.set_xlabel(u'\u0441\u0435\u043c\u0435\u0439\u043d\u043e\u0435 \u043f\u043e\u043b\u043e\u0436\u0435\u043d\u0438\u0435')\n",
      "ax.set_ylabel(u'\u043a\u043e\u043b\u0438\u0447\u0435\u0441\u0442\u0432\u043e \u0447\u0435\u043b\u043e\u0432\u0435\u043a')\n",
      "ax.set_xticklabels([u'\u0441\u0435\u043c\u044c\u044f \u0438 \u0434\u0435\u0442\u0438',u'\u043a\u0430\u0440\u044c\u0435\u0440\u0430 \u0438 \u0434\u0435\u043d\u044c\u0433\u0438', u'\u043e\u0442\u0434\u044b\u0445', u'\u043d\u0430\u0443\u043a\u0430 \u0438 \u0438\u0441\u0441\u043b\u0435\u0434\u043e\u0432\u0430\u043d\u0438\u044f', u'\u0441\u043e\u0432\u0435\u0440\u0448. \u043c\u0438\u0440\u0430', u'\u0441\u0430\u043c\u043e\u0440\u0430\u0437\u0432\u0438\u0442\u0438\u0435', u'\u043a\u0440\u0430\u0441\u043e\u0442\u0430 \u0438 \u0438\u0441\u043a\u0443\u0441\u0441\u0442\u0441\u0432\u043e',u'\u0441\u043b\u0430\u0432\u0430 \u0438 \u0432\u043b\u0438\u044f\u043d\u0438\u0435'])\n",
      "ax.set_title('life_main')\n",
      "ax.legend(loc=2);\n",
      "show()"
     ],
     "language": "python",
     "metadata": {},
     "outputs": [],
     "prompt_number": 33
    },
    {
     "cell_type": "code",
     "collapsed": false,
     "input": [],
     "language": "python",
     "metadata": {},
     "outputs": []
    }
   ],
   "metadata": {}
  }
 ]
}